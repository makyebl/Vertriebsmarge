{
 "cells": [
  {
   "cell_type": "code",
   "execution_count": 25,
   "id": "27ccdcf4",
   "metadata": {},
   "outputs": [],
   "source": [
    "%%capture\n",
    "!pip install ipywidgets\n",
    "!pip install numpy\n",
    "!pip install matplotlib"
   ]
  },
  {
   "cell_type": "code",
   "execution_count": 26,
   "id": "b91302ce",
   "metadata": {},
   "outputs": [
    {
     "name": "stdout",
     "output_type": "stream",
     "text": [
      "Jährliche Liefermenge [in kWh]: 350000\n",
      "Zielvorgabe [in CHF/Jahr]: 5000\n"
     ]
    },
    {
     "data": {
      "application/vnd.jupyter.widget-view+json": {
       "model_id": "e8b68a5635b04a5ab86b6139b45a3343",
       "version_major": 2,
       "version_minor": 0
      },
      "text/plain": [
       "interactive(children=(FloatSlider(value=0.0, description='Grundpreis [CHF/Monat]', layout=Layout(width='80%'),…"
      ]
     },
     "metadata": {},
     "output_type": "display_data"
    },
    {
     "data": {
      "text/plain": [
       "<function __main__.plot_graph(grundpreis_slider, strukturierungszuschlag_slider)>"
      ]
     },
     "execution_count": 26,
     "metadata": {},
     "output_type": "execute_result"
    }
   ],
   "source": [
    "import matplotlib.pyplot as plt\n",
    "import numpy as np\n",
    "from ipywidgets import interact, FloatSlider, Layout\n",
    "\n",
    "liefermenge = float(input(\"Jährliche Liefermenge [in kWh]: \"))\n",
    "deckungsbeitragzielvorgabe = float(input(\"Zielvorgabe [in CHF/Jahr]: \"))\n",
    "\n",
    "def plot_graph(grundpreis_slider, strukturierungszuschlag_slider):\n",
    "    liefermenge_mwh = liefermenge / 1000\n",
    "\n",
    "    if liefermenge_mwh < 500:\n",
    "        segment = \"C-Kunden\"\n",
    "        segment_liefermenge = np.linspace(100, 500, 10)\n",
    "    elif liefermenge_mwh < 4000:\n",
    "        segment = \"B-Kunden\"\n",
    "        segment_liefermenge = np.linspace(500, 4000, 10)\n",
    "    else:\n",
    "        segment = \"A-Kunden\"\n",
    "        segment_liefermenge = np.linspace(4000, 30000, 10)\n",
    "\n",
    "    grundpreis = grundpreis_slider * 12\n",
    "    strukturierungszuschlag_mwh = strukturierungszuschlag_slider * 1000\n",
    "    strukturierungszuschlag_menge = segment_liefermenge * strukturierungszuschlag_mwh / 100\n",
    "\n",
    "    def check_marge(deckungsbeitragzielvorgabe, liefermenge_mwh, grundpreis, strukturierungszuschlag_mwh, segment_liefermenge):\n",
    "        differenz = (deckungsbeitragzielvorgabe - grundpreis - strukturierungszuschlag_mwh * liefermenge_mwh / 100)\n",
    "        differenz_marge = round((differenz / liefermenge_mwh * 100) / 1000, 3)\n",
    "        if differenz_marge < 0:\n",
    "            differenz_marge = 0\n",
    "            differenz_marge_menge_mwh = segment_liefermenge * 0\n",
    "            return differenz_marge, differenz_marge_menge_mwh\n",
    "        #print(f\"Notwendiger Aufschlag auf Arbeitspreis von {differenz_marge} Rappen/kWh\")\n",
    "        differenz_marge_menge_mwh = (segment_liefermenge * differenz_marge * 1000) / 100\n",
    "        return differenz_marge, differenz_marge_menge_mwh\n",
    "\n",
    "    differenz_marge, differenz_marge_menge_mwh = check_marge(deckungsbeitragzielvorgabe, liefermenge_mwh, grundpreis,\n",
    "                                                              strukturierungszuschlag_mwh, segment_liefermenge)\n",
    "\n",
    "    def check_beitrag(grundpreis, differenz_marge, strukturierungszuschlag_mwh, segment_liefermenge):\n",
    "        beitrag_marge_menge_mwh = grundpreis + segment_liefermenge * (\n",
    "                differenz_marge * 1000 + strukturierungszuschlag_mwh) / 100\n",
    "        return beitrag_marge_menge_mwh\n",
    "\n",
    "    beitrag_marge_menge = check_beitrag(grundpreis, differenz_marge, strukturierungszuschlag_mwh, segment_liefermenge)\n",
    "    \n",
    "    print(f\"Um die jährliche Deckungszielvorgabe von CHF {deckungsbeitragzielvorgabe} für die jährliche Liefermenge {liefermenge_mwh * 1000} kWh zu erreichen,\\n\"\n",
    "          f\"braucht es bei einem monatlichen Grundpreis von CHF {grundpreis} und einem Strukturierungszuschlag von {strukturierungszuschlag_mwh / 1000} Rp./kWh\\n\"\n",
    "          f\"einen zusätzlichen Margenaufschlag auf dem Arbeitspreis von {differenz_marge} Rp./kWh.\")\n",
    "    \n",
    "    fig, (ax1, ax2) = plt.subplots(2, 1, sharex=True, gridspec_kw={'height_ratios': [2, 1]}, figsize=(14, 12))\n",
    "\n",
    "    ax1.axhline(y=grundpreis, color='g', linestyle='--', label='Grundpreis')\n",
    "    ax1.axhline(y=deckungsbeitragzielvorgabe, color='r', linestyle='--', label='Deckungsbeitragzielvorgabe')\n",
    "\n",
    "    ax1.axvline(x=liefermenge_mwh, color='b', linestyle='--', label='Eingegebene Liefermenge')\n",
    "\n",
    "    ax1.plot(segment_liefermenge, strukturierungszuschlag_menge, label='Strukturierungszuschlag')\n",
    "    ax1.plot(segment_liefermenge, differenz_marge_menge_mwh, label=f'Differenzmarge für {segment}')\n",
    "\n",
    "    ax1.set_ylabel('[CHF]')\n",
    "    ax1.set_xlabel('Jährliche Liefermenge [MWh]')\n",
    "    ax1.legend()\n",
    "    ax1.set_title(f\"Marge für {segment}\")\n",
    "\n",
    "    ax2.axhline(y=deckungsbeitragzielvorgabe, color='r', linestyle='--', label='Deckungsbeitragzielvorgabe')\n",
    "    ax2.fill_between(segment_liefermenge, beitrag_marge_menge, alpha=0.3, color='orange')\n",
    "\n",
    "    ax2.axvline(x=liefermenge_mwh, color='b', linestyle='--', label='Eingegebene Liefermenge')\n",
    "    ax2.plot(segment_liefermenge, beitrag_marge_menge, label='Margenentwicklung', color='orange')\n",
    "\n",
    "    ax2.set_xlabel('Jährliche Liefermenge [MWh]')\n",
    "    ax2.set_ylabel('[CHF]')\n",
    "    ax2.legend()\n",
    "\n",
    "    plt.show()\n",
    "\n",
    "grundpreis_slider = FloatSlider(value=0, min=0, max=500, step=10, description='Grundpreis [CHF/Monat]', style={'description_width':'initial'} , layout=Layout(width='80%'))\n",
    "strukturierungszuschlag_slider = FloatSlider(value=0, min=0, max=3, step=0.05,\n",
    "                                             description='Strukturierungszuschlag [Rp./kWh]', style={'description_width':'initial'}, layout=Layout(width='80%'))\n",
    "\n",
    "interact(plot_graph, grundpreis_slider=grundpreis_slider, strukturierungszuschlag_slider=strukturierungszuschlag_slider)\n"
   ]
  }
 ],
 "metadata": {
  "kernelspec": {
   "display_name": "Python 3 (ipykernel)",
   "language": "python",
   "name": "python3"
  },
  "language_info": {
   "codemirror_mode": {
    "name": "ipython",
    "version": 3
   },
   "file_extension": ".py",
   "mimetype": "text/x-python",
   "name": "python",
   "nbconvert_exporter": "python",
   "pygments_lexer": "ipython3",
   "version": "3.9.12"
  }
 },
 "nbformat": 4,
 "nbformat_minor": 5
}
