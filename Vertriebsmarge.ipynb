{
 "cells": [
  {
   "cell_type": "code",
   "execution_count": 20,
   "id": "56e54ed1",
   "metadata": {},
   "outputs": [
    {
     "name": "stdout",
     "output_type": "stream",
     "text": [
      "Requirement already satisfied: ipywidgets in c:\\users\\marti\\anaconda3\\lib\\site-packages (7.6.5)\n",
      "Requirement already satisfied: jupyterlab-widgets>=1.0.0 in c:\\users\\marti\\anaconda3\\lib\\site-packages (from ipywidgets) (1.0.0)\n",
      "Requirement already satisfied: nbformat>=4.2.0 in c:\\users\\marti\\anaconda3\\lib\\site-packages (from ipywidgets) (5.3.0)\n",
      "Requirement already satisfied: ipython-genutils~=0.2.0 in c:\\users\\marti\\anaconda3\\lib\\site-packages (from ipywidgets) (0.2.0)\n",
      "Requirement already satisfied: ipython>=4.0.0 in c:\\users\\marti\\anaconda3\\lib\\site-packages (from ipywidgets) (8.2.0)\n",
      "Requirement already satisfied: traitlets>=4.3.1 in c:\\users\\marti\\anaconda3\\lib\\site-packages (from ipywidgets) (5.1.1)\n",
      "Requirement already satisfied: widgetsnbextension~=3.5.0 in c:\\users\\marti\\anaconda3\\lib\\site-packages (from ipywidgets) (3.5.2)\n",
      "Requirement already satisfied: ipykernel>=4.5.1 in c:\\users\\marti\\anaconda3\\lib\\site-packages (from ipywidgets) (6.9.1)\n",
      "Requirement already satisfied: nest-asyncio in c:\\users\\marti\\anaconda3\\lib\\site-packages (from ipykernel>=4.5.1->ipywidgets) (1.5.5)\n",
      "Requirement already satisfied: debugpy<2.0,>=1.0.0 in c:\\users\\marti\\anaconda3\\lib\\site-packages (from ipykernel>=4.5.1->ipywidgets) (1.5.1)\n",
      "Requirement already satisfied: tornado<7.0,>=4.2 in c:\\users\\marti\\anaconda3\\lib\\site-packages (from ipykernel>=4.5.1->ipywidgets) (6.1)\n",
      "Requirement already satisfied: matplotlib-inline<0.2.0,>=0.1.0 in c:\\users\\marti\\anaconda3\\lib\\site-packages (from ipykernel>=4.5.1->ipywidgets) (0.1.2)\n",
      "Requirement already satisfied: jupyter-client<8.0 in c:\\users\\marti\\anaconda3\\lib\\site-packages (from ipykernel>=4.5.1->ipywidgets) (6.1.12)\n",
      "Requirement already satisfied: pygments>=2.4.0 in c:\\users\\marti\\anaconda3\\lib\\site-packages (from ipython>=4.0.0->ipywidgets) (2.11.2)\n",
      "Requirement already satisfied: prompt-toolkit!=3.0.0,!=3.0.1,<3.1.0,>=2.0.0 in c:\\users\\marti\\anaconda3\\lib\\site-packages (from ipython>=4.0.0->ipywidgets) (3.0.20)\n",
      "Requirement already satisfied: pickleshare in c:\\users\\marti\\anaconda3\\lib\\site-packages (from ipython>=4.0.0->ipywidgets) (0.7.5)\n",
      "Requirement already satisfied: jedi>=0.16 in c:\\users\\marti\\anaconda3\\lib\\site-packages (from ipython>=4.0.0->ipywidgets) (0.18.1)\n",
      "Requirement already satisfied: colorama in c:\\users\\marti\\anaconda3\\lib\\site-packages (from ipython>=4.0.0->ipywidgets) (0.4.4)\n",
      "Requirement already satisfied: backcall in c:\\users\\marti\\anaconda3\\lib\\site-packages (from ipython>=4.0.0->ipywidgets) (0.2.0)\n",
      "Requirement already satisfied: decorator in c:\\users\\marti\\anaconda3\\lib\\site-packages (from ipython>=4.0.0->ipywidgets) (5.1.1)\n",
      "Requirement already satisfied: stack-data in c:\\users\\marti\\anaconda3\\lib\\site-packages (from ipython>=4.0.0->ipywidgets) (0.2.0)\n",
      "Requirement already satisfied: setuptools>=18.5 in c:\\users\\marti\\anaconda3\\lib\\site-packages (from ipython>=4.0.0->ipywidgets) (61.2.0)\n",
      "Requirement already satisfied: parso<0.9.0,>=0.8.0 in c:\\users\\marti\\anaconda3\\lib\\site-packages (from jedi>=0.16->ipython>=4.0.0->ipywidgets) (0.8.3)\n",
      "Requirement already satisfied: jupyter-core>=4.6.0 in c:\\users\\marti\\anaconda3\\lib\\site-packages (from jupyter-client<8.0->ipykernel>=4.5.1->ipywidgets) (4.9.2)\n",
      "Requirement already satisfied: pyzmq>=13 in c:\\users\\marti\\anaconda3\\lib\\site-packages (from jupyter-client<8.0->ipykernel>=4.5.1->ipywidgets) (22.3.0)\n",
      "Requirement already satisfied: python-dateutil>=2.1 in c:\\users\\marti\\anaconda3\\lib\\site-packages (from jupyter-client<8.0->ipykernel>=4.5.1->ipywidgets) (2.8.2)\n",
      "Requirement already satisfied: pywin32>=1.0 in c:\\users\\marti\\anaconda3\\lib\\site-packages (from jupyter-core>=4.6.0->jupyter-client<8.0->ipykernel>=4.5.1->ipywidgets) (302)\n",
      "Requirement already satisfied: fastjsonschema in c:\\users\\marti\\anaconda3\\lib\\site-packages (from nbformat>=4.2.0->ipywidgets) (2.15.1)\n",
      "Requirement already satisfied: jsonschema>=2.6 in c:\\users\\marti\\anaconda3\\lib\\site-packages (from nbformat>=4.2.0->ipywidgets) (4.4.0)\n",
      "Requirement already satisfied: pyrsistent!=0.17.0,!=0.17.1,!=0.17.2,>=0.14.0 in c:\\users\\marti\\anaconda3\\lib\\site-packages (from jsonschema>=2.6->nbformat>=4.2.0->ipywidgets) (0.18.0)\n",
      "Requirement already satisfied: attrs>=17.4.0 in c:\\users\\marti\\anaconda3\\lib\\site-packages (from jsonschema>=2.6->nbformat>=4.2.0->ipywidgets) (21.4.0)\n",
      "Requirement already satisfied: wcwidth in c:\\users\\marti\\anaconda3\\lib\\site-packages (from prompt-toolkit!=3.0.0,!=3.0.1,<3.1.0,>=2.0.0->ipython>=4.0.0->ipywidgets) (0.2.5)\n",
      "Requirement already satisfied: six>=1.5 in c:\\users\\marti\\anaconda3\\lib\\site-packages (from python-dateutil>=2.1->jupyter-client<8.0->ipykernel>=4.5.1->ipywidgets) (1.16.0)\n",
      "Requirement already satisfied: notebook>=4.4.1 in c:\\users\\marti\\anaconda3\\lib\\site-packages (from widgetsnbextension~=3.5.0->ipywidgets) (6.4.8)\n",
      "Requirement already satisfied: terminado>=0.8.3 in c:\\users\\marti\\anaconda3\\lib\\site-packages (from notebook>=4.4.1->widgetsnbextension~=3.5.0->ipywidgets) (0.13.1)\n",
      "Requirement already satisfied: prometheus-client in c:\\users\\marti\\anaconda3\\lib\\site-packages (from notebook>=4.4.1->widgetsnbextension~=3.5.0->ipywidgets) (0.13.1)\n",
      "Requirement already satisfied: nbconvert in c:\\users\\marti\\anaconda3\\lib\\site-packages (from notebook>=4.4.1->widgetsnbextension~=3.5.0->ipywidgets) (6.4.4)\n",
      "Requirement already satisfied: jinja2 in c:\\users\\marti\\anaconda3\\lib\\site-packages (from notebook>=4.4.1->widgetsnbextension~=3.5.0->ipywidgets) (2.11.3)\n",
      "Requirement already satisfied: argon2-cffi in c:\\users\\marti\\anaconda3\\lib\\site-packages (from notebook>=4.4.1->widgetsnbextension~=3.5.0->ipywidgets) (21.3.0)\n",
      "Requirement already satisfied: Send2Trash>=1.8.0 in c:\\users\\marti\\anaconda3\\lib\\site-packages (from notebook>=4.4.1->widgetsnbextension~=3.5.0->ipywidgets) (1.8.0)\n",
      "Requirement already satisfied: pywinpty>=1.1.0 in c:\\users\\marti\\anaconda3\\lib\\site-packages (from terminado>=0.8.3->notebook>=4.4.1->widgetsnbextension~=3.5.0->ipywidgets) (2.0.2)\n",
      "Requirement already satisfied: argon2-cffi-bindings in c:\\users\\marti\\anaconda3\\lib\\site-packages (from argon2-cffi->notebook>=4.4.1->widgetsnbextension~=3.5.0->ipywidgets) (21.2.0)\n",
      "Requirement already satisfied: cffi>=1.0.1 in c:\\users\\marti\\anaconda3\\lib\\site-packages (from argon2-cffi-bindings->argon2-cffi->notebook>=4.4.1->widgetsnbextension~=3.5.0->ipywidgets) (1.15.0)\n",
      "Requirement already satisfied: pycparser in c:\\users\\marti\\anaconda3\\lib\\site-packages (from cffi>=1.0.1->argon2-cffi-bindings->argon2-cffi->notebook>=4.4.1->widgetsnbextension~=3.5.0->ipywidgets) (2.21)\n",
      "Requirement already satisfied: MarkupSafe>=0.23 in c:\\users\\marti\\anaconda3\\lib\\site-packages (from jinja2->notebook>=4.4.1->widgetsnbextension~=3.5.0->ipywidgets) (2.0.1)\n",
      "Requirement already satisfied: entrypoints>=0.2.2 in c:\\users\\marti\\anaconda3\\lib\\site-packages (from nbconvert->notebook>=4.4.1->widgetsnbextension~=3.5.0->ipywidgets) (0.4)\n",
      "Requirement already satisfied: testpath in c:\\users\\marti\\anaconda3\\lib\\site-packages (from nbconvert->notebook>=4.4.1->widgetsnbextension~=3.5.0->ipywidgets) (0.5.0)\n",
      "Requirement already satisfied: bleach in c:\\users\\marti\\anaconda3\\lib\\site-packages (from nbconvert->notebook>=4.4.1->widgetsnbextension~=3.5.0->ipywidgets) (4.1.0)\n",
      "Requirement already satisfied: jupyterlab-pygments in c:\\users\\marti\\anaconda3\\lib\\site-packages (from nbconvert->notebook>=4.4.1->widgetsnbextension~=3.5.0->ipywidgets) (0.1.2)\n",
      "Requirement already satisfied: mistune<2,>=0.8.1 in c:\\users\\marti\\anaconda3\\lib\\site-packages (from nbconvert->notebook>=4.4.1->widgetsnbextension~=3.5.0->ipywidgets) (0.8.4)\n",
      "Requirement already satisfied: pandocfilters>=1.4.1 in c:\\users\\marti\\anaconda3\\lib\\site-packages (from nbconvert->notebook>=4.4.1->widgetsnbextension~=3.5.0->ipywidgets) (1.5.0)\n",
      "Requirement already satisfied: beautifulsoup4 in c:\\users\\marti\\anaconda3\\lib\\site-packages (from nbconvert->notebook>=4.4.1->widgetsnbextension~=3.5.0->ipywidgets) (4.11.1)\n",
      "Requirement already satisfied: defusedxml in c:\\users\\marti\\anaconda3\\lib\\site-packages (from nbconvert->notebook>=4.4.1->widgetsnbextension~=3.5.0->ipywidgets) (0.7.1)\n",
      "Requirement already satisfied: nbclient<0.6.0,>=0.5.0 in c:\\users\\marti\\anaconda3\\lib\\site-packages (from nbconvert->notebook>=4.4.1->widgetsnbextension~=3.5.0->ipywidgets) (0.5.13)\n",
      "Requirement already satisfied: soupsieve>1.2 in c:\\users\\marti\\anaconda3\\lib\\site-packages (from beautifulsoup4->nbconvert->notebook>=4.4.1->widgetsnbextension~=3.5.0->ipywidgets) (2.3.1)\n",
      "Requirement already satisfied: packaging in c:\\users\\marti\\anaconda3\\lib\\site-packages (from bleach->nbconvert->notebook>=4.4.1->widgetsnbextension~=3.5.0->ipywidgets) (23.2)\n",
      "Requirement already satisfied: webencodings in c:\\users\\marti\\anaconda3\\lib\\site-packages (from bleach->nbconvert->notebook>=4.4.1->widgetsnbextension~=3.5.0->ipywidgets) (0.5.1)\n",
      "Requirement already satisfied: executing in c:\\users\\marti\\anaconda3\\lib\\site-packages (from stack-data->ipython>=4.0.0->ipywidgets) (0.8.3)\n",
      "Requirement already satisfied: pure-eval in c:\\users\\marti\\anaconda3\\lib\\site-packages (from stack-data->ipython>=4.0.0->ipywidgets) (0.2.2)\n",
      "Requirement already satisfied: asttokens in c:\\users\\marti\\anaconda3\\lib\\site-packages (from stack-data->ipython>=4.0.0->ipywidgets) (2.0.5)\n"
     ]
    },
    {
     "name": "stdout",
     "output_type": "stream",
     "text": [
      "Requirement already satisfied: pyinstaller in c:\\users\\marti\\anaconda3\\lib\\site-packages (6.3.0)\n",
      "Requirement already satisfied: importlib-metadata>=4.6 in c:\\users\\marti\\anaconda3\\lib\\site-packages (from pyinstaller) (4.11.3)\n",
      "Requirement already satisfied: packaging>=22.0 in c:\\users\\marti\\anaconda3\\lib\\site-packages (from pyinstaller) (23.2)\n",
      "Requirement already satisfied: pywin32-ctypes>=0.2.1 in c:\\users\\marti\\anaconda3\\lib\\site-packages (from pyinstaller) (0.2.2)\n",
      "Requirement already satisfied: pyinstaller-hooks-contrib>=2021.4 in c:\\users\\marti\\anaconda3\\lib\\site-packages (from pyinstaller) (2023.12)\n",
      "Requirement already satisfied: altgraph in c:\\users\\marti\\anaconda3\\lib\\site-packages (from pyinstaller) (0.17.4)\n",
      "Requirement already satisfied: setuptools>=42.0.0 in c:\\users\\marti\\anaconda3\\lib\\site-packages (from pyinstaller) (61.2.0)\n",
      "Requirement already satisfied: pefile>=2022.5.30 in c:\\users\\marti\\anaconda3\\lib\\site-packages (from pyinstaller) (2023.2.7)\n",
      "Requirement already satisfied: zipp>=0.5 in c:\\users\\marti\\anaconda3\\lib\\site-packages (from importlib-metadata>=4.6->pyinstaller) (3.7.0)\n"
     ]
    },
    {
     "name": "stderr",
     "output_type": "stream",
     "text": [
      "ERROR: Could not find a version that satisfies the requirement tkinter (from versions: none)\n",
      "ERROR: No matching distribution found for tkinter\n"
     ]
    }
   ],
   "source": [
    "!pip install ipywidgets\n",
    "!pip install pyinstaller"
   ]
  },
  {
   "cell_type": "code",
   "execution_count": 18,
   "id": "6d71a02d",
   "metadata": {},
   "outputs": [
    {
     "name": "stdout",
     "output_type": "stream",
     "text": [
      "Jährliche Liefermenge [in kWh]: 350000\n",
      "Zielvorgabe [in CHF/Jahr]: 5000\n"
     ]
    },
    {
     "data": {
      "application/vnd.jupyter.widget-view+json": {
       "model_id": "9f7f90e33f1e4bf0b92e6eddd52432f2",
       "version_major": 2,
       "version_minor": 0
      },
      "text/plain": [
       "interactive(children=(FloatSlider(value=0.0, description='Grundpreis [CHF/Monat]', layout=Layout(width='80%'),…"
      ]
     },
     "metadata": {},
     "output_type": "display_data"
    },
    {
     "data": {
      "text/plain": [
       "<function __main__.plot_graph(grundpreis_slider, strukturierungszuschlag_slider)>"
      ]
     },
     "execution_count": 18,
     "metadata": {},
     "output_type": "execute_result"
    }
   ],
   "source": [
    "import matplotlib.pyplot as plt\n",
    "import numpy as np\n",
    "from ipywidgets import interact, FloatSlider, Layout\n",
    "\n",
    "liefermenge = float(input(\"Jährliche Liefermenge [in kWh]: \"))\n",
    "deckungsbeitragzielvorgabe = float(input(\"Zielvorgabe [in CHF/Jahr]: \"))\n",
    "\n",
    "def plot_graph(grundpreis_slider, strukturierungszuschlag_slider):\n",
    "    liefermenge_mwh = liefermenge / 1000\n",
    "\n",
    "    if liefermenge_mwh < 500:\n",
    "        segment = \"C-Kunden\"\n",
    "        segment_liefermenge = np.linspace(100, 500, 10)\n",
    "    elif liefermenge_mwh < 4000:\n",
    "        segment = \"B-Kunden\"\n",
    "        segment_liefermenge = np.linspace(500, 4000, 10)\n",
    "    else:\n",
    "        segment = \"A-Kunden\"\n",
    "        segment_liefermenge = np.linspace(4000, 30000, 10)\n",
    "\n",
    "    grundpreis = grundpreis_slider * 12\n",
    "    strukturierungszuschlag_mwh = strukturierungszuschlag_slider * 1000\n",
    "    strukturierungszuschlag_menge = segment_liefermenge * strukturierungszuschlag_mwh / 100\n",
    "\n",
    "    def check_marge(deckungsbeitragzielvorgabe, liefermenge_mwh, grundpreis, strukturierungszuschlag_mwh, segment_liefermenge):\n",
    "        differenz = (deckungsbeitragzielvorgabe - grundpreis - strukturierungszuschlag_mwh * liefermenge_mwh / 100)\n",
    "        differenz_marge = round((differenz / liefermenge_mwh * 100) / 1000, 3)\n",
    "        if differenz_marge < 0:\n",
    "            differenz_marge = 0\n",
    "            differenz_marge_menge_mwh = segment_liefermenge * 0\n",
    "            return differenz_marge, differenz_marge_menge_mwh\n",
    "        #print(f\"Notwendiger Aufschlag auf Arbeitspreis von {differenz_marge} Rappen/kWh\")\n",
    "        differenz_marge_menge_mwh = (segment_liefermenge * differenz_marge * 1000) / 100\n",
    "        return differenz_marge, differenz_marge_menge_mwh\n",
    "\n",
    "    differenz_marge, differenz_marge_menge_mwh = check_marge(deckungsbeitragzielvorgabe, liefermenge_mwh, grundpreis,\n",
    "                                                              strukturierungszuschlag_mwh, segment_liefermenge)\n",
    "\n",
    "    def check_beitrag(grundpreis, differenz_marge, strukturierungszuschlag_mwh, segment_liefermenge):\n",
    "        beitrag_marge_menge_mwh = grundpreis + segment_liefermenge * (\n",
    "                differenz_marge * 1000 + strukturierungszuschlag_mwh) / 100\n",
    "        return beitrag_marge_menge_mwh\n",
    "\n",
    "    beitrag_marge_menge = check_beitrag(grundpreis, differenz_marge, strukturierungszuschlag_mwh, segment_liefermenge)\n",
    "    \n",
    "    print(f\"Um die jährliche Deckungszielvorgabe von CHF {deckungsbeitragzielvorgabe} für die jährliche Liefermenge {liefermenge_mwh * 1000} kWh zu erreichen,\\n\"\n",
    "          f\"braucht es bei einem monatlichen Grundpreis von CHF {grundpreis} und einem Strukturierungszuschlag von {strukturierungszuschlag_mwh / 1000} Rp./kWh\\n\"\n",
    "          f\"einen zusätzlichen Margenaufschlag auf dem Arbeitspreis von {differenz_marge} Rp./kWh.\")\n",
    "    \n",
    "    fig, (ax1, ax2) = plt.subplots(2, 1, sharex=True, gridspec_kw={'height_ratios': [2, 1]}, figsize=(14, 12))\n",
    "\n",
    "    ax1.axhline(y=grundpreis, color='g', linestyle='--', label='Grundpreis')\n",
    "    ax1.axhline(y=deckungsbeitragzielvorgabe, color='r', linestyle='--', label='Deckungsbeitragzielvorgabe')\n",
    "\n",
    "    ax1.axvline(x=liefermenge_mwh, color='b', linestyle='--', label='Eingegebene Liefermenge')\n",
    "\n",
    "    ax1.plot(segment_liefermenge, strukturierungszuschlag_menge, label='Strukturierungszuschlag')\n",
    "    ax1.plot(segment_liefermenge, differenz_marge_menge_mwh, label=f'Differenzmarge für {segment}')\n",
    "\n",
    "    ax1.set_ylabel('[CHF]')\n",
    "    ax1.set_xlabel('Jährliche Liefermenge [MWh]')\n",
    "    ax1.legend()\n",
    "    ax1.set_title(f\"Marge für {segment}\")\n",
    "\n",
    "    ax2.axhline(y=deckungsbeitragzielvorgabe, color='r', linestyle='--', label='Deckungsbeitragzielvorgabe')\n",
    "    ax2.fill_between(segment_liefermenge, beitrag_marge_menge, alpha=0.3, color='orange')\n",
    "\n",
    "    ax2.axvline(x=liefermenge_mwh, color='b', linestyle='--', label='Eingegebene Liefermenge')\n",
    "    ax2.plot(segment_liefermenge, beitrag_marge_menge, label='Margenentwicklung', color='orange')\n",
    "\n",
    "    ax2.set_xlabel('Jährliche Liefermenge [MWh]')\n",
    "    ax2.set_ylabel('[CHF]')\n",
    "    ax2.legend()\n",
    "\n",
    "    plt.show()\n",
    "\n",
    "grundpreis_slider = FloatSlider(value=0, min=0, max=500, step=10, description='Grundpreis [CHF/Monat]', style={'description_width':'initial'} , layout=Layout(width='80%'))\n",
    "strukturierungszuschlag_slider = FloatSlider(value=0, min=0, max=3, step=0.05,\n",
    "                                             description='Strukturierungszuschlag [Rp./kWh]', style={'description_width':'initial'}, layout=Layout(width='80%'))\n",
    "\n",
    "interact(plot_graph, grundpreis_slider=grundpreis_slider, strukturierungszuschlag_slider=strukturierungszuschlag_slider)\n"
   ]
  }
 ],
 "metadata": {
  "kernelspec": {
   "display_name": "Python 3 (ipykernel)",
   "language": "python",
   "name": "python3"
  },
  "language_info": {
   "codemirror_mode": {
    "name": "ipython",
    "version": 3
   },
   "file_extension": ".py",
   "mimetype": "text/x-python",
   "name": "python",
   "nbconvert_exporter": "python",
   "pygments_lexer": "ipython3",
   "version": "3.9.12"
  }
 },
 "nbformat": 4,
 "nbformat_minor": 5
}
